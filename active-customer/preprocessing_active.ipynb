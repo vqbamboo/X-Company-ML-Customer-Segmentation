{
 "cells": [
  {
   "cell_type": "markdown",
   "metadata": {},
   "source": [
    "**MÔ TẢ VẤN ĐỀ**"
   ]
  },
  {
   "cell_type": "markdown",
   "metadata": {},
   "source": [
    "Bài toán mới yêu cầu sử dụng nhiều trường dữ liệu hơn và chọn ra số cụm theo yêu cầu của nghiệp vụ chứ ko remain 2 cụm nữa"
   ]
  },
  {
   "cell_type": "markdown",
   "metadata": {},
   "source": [
    "**Sửa lại bài toán sau feedback**\n"
   ]
  },
  {
   "cell_type": "markdown",
   "metadata": {},
   "source": [
    "- Thông tin dữ liệu sử dụng:\n",
    "    + AGE: Tuổi\n",
    "    + CHANNEL: Kênh mở\n",
    "    + NAV_WEIGHT: Tỷ trọng NAV (NAV 31/12 / NAV Max)\n",
    "    + CASH_IN_6M: Cash in 6 tháng cuối năm (30/6/2024 - 31/12/2024)\n",
    "    + CASH_OUT_6M: Cash out 6 tháng cuối năm (30/6/2024 - 31/12/2024)\n",
    "    + TRADING_COUNT_1M: Số ngày giao dịch trong 1 tháng cuối năm (30/11/2024 - 31/12/2024)\n",
    "    + TRADING_COUNT_2M: Số ngày giao dịch trong 2 tháng cuối năm (31/10/2024 - 31/12/2024)\n",
    "    + TRADING_COUNT_3M: Số ngày giao dịch trong 3 tháng cuối năm (30/09/2024 - 31/12/2024)\n",
    "    + TRADING_COUNT_6M: Số ngày giao dịch trong 6 tháng cuối năm (30/6/2024 - 31/12/2024)\n",
    "    + VQGD_6M: Vòng quay giao dịch 6 tháng cuối năm (30/6/2024 - 31/12/2024)\n",
    "    + GTGD_6M: Giá trị giao dịch 6 tháng cuối năm (30/6/2024 - 31/12/2024)\n",
    "    + PROFIT_LOSS: Lãi lỗ thực hiện trong năm nay (01/01/2024 - 31/12/2024)\n",
    "    + PROFIT_LOSS_PERCENTAGE: Phần trăm lãi lỗ thực hiện trong năm nay (01/01/2024 - 31/12/2024) \n",
    "    + LOGIN_COUNT_1M: Số lần Login trong 1 tháng gần đây (30/11/2024 - 31/12/2024)\n",
    "    + LOGIN_COUNT_2M: Số lần Login trong 2 tháng gần đây (31/10/2024 - 31/12/2024)\n",
    "    + LOGIN_COUNT_3M: Số lần Login trong 3 tháng gần đây (30/09/2024 - 31/12/2024)\n",
    "    + LOGIN_COUNT_6M: Số lần Login trong 6 tháng gần đây (30/11/2024 - 31/12/2024)\n",
    "    + ACTIVE_AGE: Khoảng thời gian Active từ lúc họ giao dịch lần đầu đến lúc thời điểm hiện tại (31/12/2024)\n",
    "- Áp dụng mô hình: K-means"
   ]
  },
  {
   "cell_type": "markdown",
   "metadata": {},
   "source": [
    "**CÀI THƯ VIỆN**"
   ]
  },
  {
   "cell_type": "code",
   "execution_count": 1,
   "metadata": {},
   "outputs": [],
   "source": [
    "from common.ultis import preprocessing\n",
    "import pandas as pd"
   ]
  },
  {
   "cell_type": "markdown",
   "metadata": {},
   "source": [
    "---"
   ]
  },
  {
   "cell_type": "markdown",
   "metadata": {},
   "source": [
    "**BẮT ĐẦU ĐỌC DỮ LIỆU**"
   ]
  },
  {
   "cell_type": "code",
   "execution_count": 7,
   "metadata": {},
   "outputs": [],
   "source": [
    "df = pd.read_csv(\"data/data_active.csv\")\n",
    "df.head()\n",
    "df_login = pd.read_csv(\"data/active_login.csv\")"
   ]
  },
  {
   "cell_type": "code",
   "execution_count": 3,
   "metadata": {},
   "outputs": [],
   "source": [
    "#drop trường \"#_x\"\n",
    "df.drop(columns=[\"#_x\"], inplace=True)\n",
    "\n",
    "#drop trường \"#_y\"\n",
    "df.drop(columns=[\"#_y\"], inplace=True)\n"
   ]
  },
  {
   "cell_type": "markdown",
   "metadata": {},
   "source": [
    "**TÌM HIỂU KIỂU DỮ LIỆU CÁC BIẾN**"
   ]
  },
  {
   "cell_type": "code",
   "execution_count": 4,
   "metadata": {},
   "outputs": [
    {
     "name": "stdout",
     "output_type": "stream",
     "text": [
      "<class 'pandas.core.frame.DataFrame'>\n",
      "RangeIndex: 102877 entries, 0 to 102876\n",
      "Data columns (total 20 columns):\n",
      " #   Column                  Non-Null Count   Dtype  \n",
      "---  ------                  --------------   -----  \n",
      " 0   MASTER_ACCOUNT          102877 non-null  object \n",
      " 1   CHANNEL                 102877 non-null  object \n",
      " 2   AGE                     102669 non-null  float64\n",
      " 3   NAV_WEIGHT              102877 non-null  float64\n",
      " 4   NAV_BQ_12M              102877 non-null  float64\n",
      " 5   CASH_IN_6M              49588 non-null   float64\n",
      " 6   CASH_OUT_6M             55728 non-null   float64\n",
      " 7   TRADING_COUNT_1M        77064 non-null   float64\n",
      " 8   TRADING_COUNT_2M        77064 non-null   float64\n",
      " 9   TRADING_COUNT_3M        77064 non-null   float64\n",
      " 10  TRADING_COUNT_6M        77064 non-null   float64\n",
      " 11  GTGD_6M                 77064 non-null   float64\n",
      " 12  VQGD_6M                 77064 non-null   float64\n",
      " 13  PROFIT_LOSS             91534 non-null   float64\n",
      " 14  PROFIT_LOSS_PERCENTAGE  91529 non-null   float64\n",
      " 15  ACTIVE_AGE              102877 non-null  int64  \n",
      " 16  login_count_1M          95541 non-null   float64\n",
      " 17  login_count_2M          95541 non-null   float64\n",
      " 18  login_count_3M          95541 non-null   float64\n",
      " 19  login_count_6M          95541 non-null   float64\n",
      "dtypes: float64(17), int64(1), object(2)\n",
      "memory usage: 15.7+ MB\n"
     ]
    }
   ],
   "source": [
    "df.info() # tìm hiểu kiểu dữ liệu của các biến"
   ]
  },
  {
   "cell_type": "code",
   "execution_count": 5,
   "metadata": {},
   "outputs": [
    {
     "data": {
      "text/plain": [
       "False"
      ]
     },
     "execution_count": 5,
     "metadata": {},
     "output_type": "execute_result"
    }
   ],
   "source": [
    "df.duplicated().any()  # kiểm tra xem có xuất hiện dữ liệu trùng lặp không"
   ]
  },
  {
   "cell_type": "code",
   "execution_count": 6,
   "metadata": {},
   "outputs": [
    {
     "data": {
      "text/plain": [
       "MASTER_ACCOUNT                0\n",
       "CHANNEL                       0\n",
       "AGE                         208\n",
       "NAV_WEIGHT                    0\n",
       "NAV_BQ_12M                    0\n",
       "CASH_IN_6M                53289\n",
       "CASH_OUT_6M               47149\n",
       "TRADING_COUNT_1M          25813\n",
       "TRADING_COUNT_2M          25813\n",
       "TRADING_COUNT_3M          25813\n",
       "TRADING_COUNT_6M          25813\n",
       "GTGD_6M                   25813\n",
       "VQGD_6M                   25813\n",
       "PROFIT_LOSS               11343\n",
       "PROFIT_LOSS_PERCENTAGE    11348\n",
       "ACTIVE_AGE                    0\n",
       "login_count_1M             7336\n",
       "login_count_2M             7336\n",
       "login_count_3M             7336\n",
       "login_count_6M             7336\n",
       "dtype: int64"
      ]
     },
     "execution_count": 6,
     "metadata": {},
     "output_type": "execute_result"
    }
   ],
   "source": [
    "df.isnull().sum() # Kiểm tra các giá trị null trong dữ liệu"
   ]
  },
  {
   "cell_type": "code",
   "execution_count": 8,
   "metadata": {},
   "outputs": [
    {
     "data": {
      "text/plain": [
       "#                    0\n",
       "MASTER_ACCOUNT       0\n",
       "login_count_1M    7336\n",
       "login_count_2M    7336\n",
       "login_count_3M    7336\n",
       "login_count_6M    7336\n",
       "dtype: int64"
      ]
     },
     "execution_count": 8,
     "metadata": {},
     "output_type": "execute_result"
    }
   ],
   "source": [
    "df_login.isnull().sum() # Kiểm tra các giá trị null trong dữ liệu"
   ]
  },
  {
   "cell_type": "markdown",
   "metadata": {},
   "source": [
    "---"
   ]
  },
  {
   "cell_type": "markdown",
   "metadata": {},
   "source": [
    "**XỬ LÝ NULL**"
   ]
  },
  {
   "cell_type": "code",
   "execution_count": 52,
   "metadata": {},
   "outputs": [
    {
     "data": {
      "text/plain": [
       "MASTER_ACCOUNT                0\n",
       "CHANNEL                       0\n",
       "AGE                         208\n",
       "NAV_WEIGHT                    0\n",
       "NAV_BQ_12M                    0\n",
       "CASH_IN_6M                53289\n",
       "CASH_OUT_6M               47149\n",
       "TRADING_COUNT_1M          25813\n",
       "TRADING_COUNT_2M          25813\n",
       "TRADING_COUNT_3M          25813\n",
       "TRADING_COUNT_6M          25813\n",
       "GTGD_6M                   25813\n",
       "VQGD_6M                   25813\n",
       "PROFIT_LOSS               11343\n",
       "PROFIT_LOSS_PERCENTAGE    11348\n",
       "ACTIVE_AGE                    0\n",
       "login_count_1M             7336\n",
       "login_count_2M             7336\n",
       "login_count_3M             7336\n",
       "login_count_6M             7336\n",
       "dtype: int64"
      ]
     },
     "execution_count": 52,
     "metadata": {},
     "output_type": "execute_result"
    }
   ],
   "source": [
    "df_copy.isnull().sum() # Kiểm tra các giá trị null trong dữ liệu"
   ]
  },
  {
   "cell_type": "code",
   "execution_count": 53,
   "metadata": {},
   "outputs": [],
   "source": [
    "# fill các null value bằng 0 đối với các cột sau:\n",
    "# 'CASH_IN_6M'\n",
    "# 'CASH_OUT_6M'\n",
    "# 'TRADING_COUNT_1M'\n",
    "# 'TRADING_COUNT_2M'\n",
    "# 'TRADING_COUNT_3M'\n",
    "# 'TRADING_COUNT_6M'\n",
    "# 'GTGD_6M'\n",
    "# 'VQGD_6M'\n",
    "# PROFIT_LOSS               \n",
    "# PROFIT_LOSS_PERCENTAGE\n",
    "# 'login_count_1M'\n",
    "# 'login_count_2M'             \n",
    "# 'login_count_3M'\n",
    "# 'login_count_6M' \n",
    "df_copy['CASH_IN_6M'] = df_copy['CASH_IN_6M'].fillna(0)\n",
    "df_copy['CASH_OUT_6M'] = df_copy['CASH_OUT_6M'].fillna(0)\n",
    "df_copy['TRADING_COUNT_1M'] = df_copy['TRADING_COUNT_1M'].fillna(0)\n",
    "df_copy['TRADING_COUNT_2M'] = df_copy['TRADING_COUNT_2M'].fillna(0)\n",
    "df_copy['TRADING_COUNT_3M'] = df_copy['TRADING_COUNT_3M'].fillna(0)\n",
    "df_copy['TRADING_COUNT_6M'] = df_copy['TRADING_COUNT_6M'].fillna(0)\n",
    "df_copy['GTGD_6M'] = df_copy['GTGD_6M'].fillna(0)\n",
    "df_copy['VQGD_6M'] = df_copy['VQGD_6M'].fillna(0)\n",
    "df_copy['PROFIT_LOSS'] = df_copy['PROFIT_LOSS'].fillna(0)\n",
    "df_copy['PROFIT_LOSS_PERCENTAGE'] = df_copy['PROFIT_LOSS_PERCENTAGE'].fillna(0)\n",
    "df_copy['login_count_1M'] = df_copy['login_count_1M'].fillna(0)\n",
    "df_copy['login_count_2M'] = df_copy['login_count_2M'].fillna(0)\n",
    "df_copy['login_count_3M'] = df_copy['login_count_3M'].fillna(0)\n",
    "df_copy['login_count_6M'] = df_copy['login_count_6M'].fillna(0)\n",
    "\n",
    "\n",
    "# fill các null value bằng giá trị median của cột đó đối với cột AGE\n",
    "df_copy['AGE'] = df_copy['AGE'].fillna(df_copy['AGE'].median())\n",
    "\n",
    "\n"
   ]
  },
  {
   "cell_type": "markdown",
   "metadata": {},
   "source": [
    "---"
   ]
  },
  {
   "cell_type": "markdown",
   "metadata": {},
   "source": [
    "**DATA PREPROCESSING**"
   ]
  },
  {
   "cell_type": "code",
   "execution_count": 55,
   "metadata": {},
   "outputs": [
    {
     "name": "stdout",
     "output_type": "stream",
     "text": [
      "Column: AGE\n",
      "Q1: 31.0, Q3: 43.0, IQR: 12.0, Upper: 61.0, Lower: 13.0\n",
      "Column: NAV_WEIGHT\n",
      "Q1: 0.0143316330319121, Q3: 0.8916751391705107, IQR: 0.8773435061385986, Upper: 2.207690398378409, Lower: -1.3016836261759859\n",
      "Column: NAV_BQ_12M\n",
      "Q1: 6218754.516393443, Q3: 176656394.22677594, IQR: 170437639.7103825, Upper: 432312853.7923497, Lower: -249437705.0491803\n",
      "Column: CASH_IN_6M\n",
      "Q1: 0.0, Q3: 33150000.0, IQR: 33150000.0, Upper: 82875000.0, Lower: -49725000.0\n",
      "Column: CASH_OUT_6M\n",
      "Q1: 0.0, Q3: 39245753.0, IQR: 39245753.0, Upper: 98114382.5, Lower: -58868629.5\n",
      "Column: TRADING_COUNT_1M\n",
      "Q1: 0.0, Q3: 1.0, IQR: 1.0, Upper: 2.5, Lower: -1.5\n",
      "Column: TRADING_COUNT_2M\n",
      "Q1: 0.0, Q3: 3.0, IQR: 3.0, Upper: 7.5, Lower: -4.5\n",
      "Column: TRADING_COUNT_3M\n",
      "Q1: 0.0, Q3: 5.0, IQR: 5.0, Upper: 12.5, Lower: -7.5\n",
      "Column: TRADING_COUNT_6M\n",
      "Q1: 0.0, Q3: 11.0, IQR: 11.0, Upper: 27.5, Lower: -16.5\n",
      "Column: GTGD_6M\n",
      "Q1: 0.0, Q3: 319650000.0, IQR: 319650000.0, Upper: 799125000.0, Lower: -479475000.0\n",
      "Column: VQGD_6M\n",
      "Q1: 0.0, Q3: 0.7349554666709142, IQR: 0.7349554666709142, Upper: 1.8373886666772854, Lower: -1.1024332000063712\n",
      "Column: PROFIT_LOSS\n",
      "Q1: -2529394.0, Q3: 5571337.0, IQR: 8100731.0, Upper: 17722433.5, Lower: -14680490.5\n",
      "Column: PROFIT_LOSS_PERCENTAGE\n",
      "Q1: -1.601615726943643, Q3: 5.6300674272271785, IQR: 7.231683154170821, Upper: 16.47759215848341, Lower: -12.449140458199876\n",
      "Column: ACTIVE_AGE\n",
      "Q1: 312.0, Q3: 1322.0, IQR: 1010.0, Upper: 2837.0, Lower: -1203.0\n",
      "Column: login_count_1M\n",
      "Q1: 1.0, Q3: 21.0, IQR: 20.0, Upper: 51.0, Lower: -29.0\n",
      "Column: login_count_2M\n",
      "Q1: 2.0, Q3: 40.0, IQR: 38.0, Upper: 97.0, Lower: -55.0\n",
      "Column: login_count_3M\n",
      "Q1: 3.0, Q3: 60.0, IQR: 57.0, Upper: 145.5, Lower: -82.5\n",
      "Column: login_count_6M\n",
      "Q1: 10.0, Q3: 111.0, IQR: 101.0, Upper: 262.5, Lower: -141.5\n"
     ]
    }
   ],
   "source": [
    "# drop trường 'MASTER_ACCOUNT'\n",
    "df_copy = df_copy.drop(['MASTER_ACCOUNT', 'CHANNEL'], axis=1)\n",
    "#find and remove outlier using IQR\n",
    "df_copy = remove_outliers(df = df_copy, column = df_copy.columns)"
   ]
  },
  {
   "cell_type": "code",
   "execution_count": 56,
   "metadata": {},
   "outputs": [],
   "source": [
    "# In ra dataset sau khi đã xử lý outlier và fill các giá trị null, gọi là fixed_data_active.csv\n",
    "df_copy.to_csv(\"fixed_data_active.csv\", index=False)"
   ]
  }
 ],
 "metadata": {
  "kernelspec": {
   "display_name": "Python 3",
   "language": "python",
   "name": "python3"
  },
  "language_info": {
   "codemirror_mode": {
    "name": "ipython",
    "version": 3
   },
   "file_extension": ".py",
   "mimetype": "text/x-python",
   "name": "python",
   "nbconvert_exporter": "python",
   "pygments_lexer": "ipython3",
   "version": "3.12.9"
  }
 },
 "nbformat": 4,
 "nbformat_minor": 2
}
